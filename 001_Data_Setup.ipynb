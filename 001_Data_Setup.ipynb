{
 "cells": [
  {
   "cell_type": "code",
   "execution_count": 1,
   "metadata": {},
   "outputs": [],
   "source": [
    "import re\n",
    "import urllib\n",
    "from zipfile import ZipFile\n",
    "\n",
    "import anndata\n",
    "import numpy as np\n",
    "import scipy\n",
    "import scipy.sparse\n",
    "\n",
    "from rp2 import fetch_file, notebooks\n",
    "from rp2.paths import get_data_path, get_scripts_path\n",
    "\n",
    "nb_env = notebooks.initialise_environment(\"Data_Setup\")"
   ]
  },
  {
   "cell_type": "markdown",
   "metadata": {},
   "source": [
    "Download supplementary data for Hagai *et al.* (2018)"
   ]
  },
  {
   "cell_type": "code",
   "execution_count": 2,
   "metadata": {},
   "outputs": [],
   "source": [
    "hagai_path = get_data_path(\"hagai_2018\")\n",
    "fetch_file(\n",
    "    \"https://static-content.springer.com/esm/art%3A10.1038%2Fs41586-018-0657-2/MediaObjects/41586_2018_657_MOESM4_ESM.xlsx\",\n",
    "    hagai_path\n",
    ");"
   ]
  },
  {
   "cell_type": "markdown",
   "metadata": {},
   "source": [
    "Download Hagai *et al.* (2018) datasets from ArrayExpress"
   ]
  },
  {
   "cell_type": "code",
   "execution_count": 3,
   "metadata": {},
   "outputs": [],
   "source": [
    "ae_path = get_data_path(\"ArrayExpress\")\n",
    "#fetch_file(\n",
    "#    \"https://www.ebi.ac.uk/biostudies/arrayexpress/studies/files/E-MTAB-6754/E-MTAB-6754.processed.2.zip\",\n",
    "#    ae_path\n",
    "#);"
   ]
  },
  {
   "cell_type": "markdown",
   "metadata": {},
   "source": [
    "Extract zipped ArrayExpress datasets"
   ]
  },
  {
   "cell_type": "code",
   "execution_count": 4,
   "metadata": {},
   "outputs": [
    {
     "name": "stdout",
     "output_type": "stream",
     "text": [
      "Extracting: C:\\Users\\wolke\\Publication\\sc-variability-paper-master-1601 2\\Data\\ArrayExpress\\E-MTAB-6754.processed.2.zip\n"
     ]
    }
   ],
   "source": [
    "for zip_path in ae_path.glob(\"*.zip\"):\n",
    "    extract_path = ae_path.joinpath(zip_path.stem)\n",
    "    if extract_path.exists():\n",
    "        continue\n",
    "\n",
    "    print(\"Extracting:\", zip_path)\n",
    "\n",
    "    with ZipFile(zip_path, \"r\") as zip_file:\n",
    "        zip_file.extractall(extract_path)"
   ]
  },
  {
   "cell_type": "markdown",
   "metadata": {},
   "source": [
    "Download txburst scripts for Larsson *et al.* (2019) burst modelling"
   ]
  },
  {
   "cell_type": "code",
   "execution_count": 5,
   "metadata": {},
   "outputs": [],
   "source": [
    "txburst_filenames = (\n",
    "    \"txburstML.py\",\n",
    "    \"txburstPL.py\",\n",
    "    \"txburstTEST.py\",\n",
    ")\n",
    "\n",
    "txburst_path = get_scripts_path(\"txburst\")\n",
    "\n",
    "for filename in txburst_filenames:\n",
    "    url = f\"https://raw.githubusercontent.com/sandberg-lab/txburst/master/{filename}\"\n",
    "    fetch_file(url, txburst_path)"
   ]
  },
  {
   "cell_type": "markdown",
   "metadata": {},
   "source": [
    "Collate Hagai *et al.* (2018) mouse UMI counts into a single dataframe"
   ]
  },
  {
   "cell_type": "code",
   "execution_count": 7,
   "metadata": {},
   "outputs": [],
   "source": [
    "def extract_species_and_replicate(token):\n",
    "    return token[:-1], token[-1]\n",
    "\n",
    "\n",
    "def extract_treatment_and_time_point(token):\n",
    "    matches = re.match(r\"^([a-z]+)(\\d*[^\\d]*)$\", token)\n",
    "    return matches.group(1), matches.group(2) or \"0\"\n",
    "\n",
    "\n",
    "def load_umi_count_adata(file_path):\n",
    "    species_and_replicate, treatment_and_time_point = file_path.name.split(\"_\")[:2]\n",
    "    species, replicate = extract_species_and_replicate(species_and_replicate)\n",
    "    treatment, time_point = extract_treatment_and_time_point(treatment_and_time_point)\n",
    "\n",
    "    umi_ad = anndata.read_csv(file_path, delimiter=\" \").T\n",
    "    umi_ad.X = scipy.sparse.csr_matrix(umi_ad.X, dtype=int)\n",
    "\n",
    "    umi_ad.obs[\"species\"] = species\n",
    "    umi_ad.obs[\"replicate\"] = replicate\n",
    "    umi_ad.obs[\"treatment\"] = treatment\n",
    "    umi_ad.obs[\"time_point\"] = time_point\n",
    "    umi_ad.obs[\"barcode\"] = umi_ad.obs.index\n",
    "\n",
    "    return umi_ad\n",
    "\n",
    "\n",
    "def collate_umi_counts(csv_file_paths):\n",
    "    total_obs = 0\n",
    "    all_adata = []\n",
    "\n",
    "    for file_path in csv_file_paths:\n",
    "        print(\"Loading\", file_path.name)\n",
    "\n",
    "        csv_adata = load_umi_count_adata(file_path)\n",
    "        csv_adata.obs.index = [str(i) for i in range(total_obs, total_obs + csv_adata.n_obs)]\n",
    "\n",
    "        all_adata.append(csv_adata)\n",
    "\n",
    "        total_obs += csv_adata.n_obs\n",
    "\n",
    "    print(\"Collating\")\n",
    "\n",
    "    adata = all_adata[0].concatenate(all_adata[1:], join=\"outer\", index_unique=None)\n",
    "    adata.obs.drop(columns=[\"batch\"], inplace=True)\n",
    "    return adata"
   ]
  },
  {
   "cell_type": "code",
   "execution_count": 8,
   "metadata": {},
   "outputs": [
    {
     "name": "stdout",
     "output_type": "stream",
     "text": [
      "Loading mouse1_lps2_filtered_by_cell_cluster0.txt.gz\n",
      "Loading mouse1_lps4_filtered_by_cell_cluster0.txt.gz\n",
      "Loading mouse1_lps6_filtered_by_cell_cluster0.txt.gz\n",
      "Loading mouse1_pic2_filtered_by_cell_cluster0.txt.gz\n",
      "Loading mouse1_pic4_filtered_by_cell_cluster0.txt.gz\n",
      "Loading mouse1_unst_filtered_by_cell_cluster0.txt.gz\n",
      "Loading mouse2_lps2_filtered_by_cell_cluster0.txt.gz\n",
      "Loading mouse2_lps4_filtered_by_cell_cluster0.txt.gz\n",
      "Loading mouse2_lps6_filtered_by_cell_cluster0.txt.gz\n",
      "Loading mouse2_pic2_filtered_by_cell_cluster0.txt.gz\n",
      "Loading mouse2_pic4_filtered_by_cell_cluster0.txt.gz\n",
      "Loading mouse2_pic6A_filtered_by_cell_cluster0.txt.gz\n",
      "Loading mouse2_pic6_filtered_by_cell_cluster0.txt.gz\n",
      "Loading mouse2_unst_filtered_by_cell_cluster0.txt.gz\n",
      "Loading mouse3_lps2_filtered_by_cell_cluster0.txt.gz\n",
      "Loading mouse3_lps4_filtered_by_cell_cluster0.txt.gz\n",
      "Loading mouse3_lps6_filtered_by_cell_cluster0.txt.gz\n",
      "Loading mouse3_pic2_filtered_by_cell_cluster0.txt.gz\n",
      "Loading mouse3_pic4_filtered_by_cell_cluster0.txt.gz\n",
      "Loading mouse3_pic6_filtered_by_cell_cluster0.txt.gz\n",
      "Loading mouse3_unst_filtered_by_cell_cluster0.txt.gz\n",
      "Collating\n"
     ]
    },
    {
     "name": "stderr",
     "output_type": "stream",
     "text": [
      "... storing 'species' as categorical\n",
      "... storing 'replicate' as categorical\n",
      "... storing 'treatment' as categorical\n",
      "... storing 'time_point' as categorical\n",
      "... storing 'barcode' as categorical\n"
     ]
    },
    {
     "name": "stdout",
     "output_type": "stream",
     "text": [
      "Loading pig1_lps2_filtered_by_cell_cluster0.txt.gz\n",
      "Loading pig1_lps4_filtered_by_cell_cluster0.txt.gz\n",
      "Loading pig1_lps6_filtered_by_cell_cluster0.txt.gz\n",
      "Loading pig1_unst_filtered_by_cell_cluster0.txt.gz\n",
      "Loading pig2_lps2_filtered_by_cell_cluster0.txt.gz\n",
      "Loading pig2_lps4_filtered_by_cell_cluster0.txt.gz\n",
      "Loading pig2_lps6_filtered_by_cell_cluster0.txt.gz\n",
      "Loading pig2_unst_filtered_by_cell_cluster0.txt.gz\n",
      "Loading pig3_lps2_filtered_by_cell_cluster0.txt.gz\n",
      "Loading pig3_lps4_filtered_by_cell_cluster0.txt.gz\n",
      "Loading pig3_lps6_filtered_by_cell_cluster0.txt.gz\n",
      "Loading pig3_unst_filtered_by_cell_cluster0.txt.gz\n",
      "Collating\n"
     ]
    },
    {
     "name": "stderr",
     "output_type": "stream",
     "text": [
      "... storing 'species' as categorical\n",
      "... storing 'replicate' as categorical\n",
      "... storing 'treatment' as categorical\n",
      "... storing 'time_point' as categorical\n",
      "... storing 'barcode' as categorical\n"
     ]
    },
    {
     "name": "stdout",
     "output_type": "stream",
     "text": [
      "Loading rabbit1_lps2_filtered_by_cell_cluster0.txt.gz\n",
      "Loading rabbit1_lps4_filtered_by_cell_cluster0.txt.gz\n",
      "Loading rabbit1_lps6_filtered_by_cell_cluster0.txt.gz\n",
      "Loading rabbit1_unst_filtered_by_cell_cluster0.txt.gz\n",
      "Loading rabbit2_lps2_filtered_by_cell_cluster0.txt.gz\n",
      "Loading rabbit2_lps4_filtered_by_cell_cluster0.txt.gz\n",
      "Loading rabbit2_lps6_filtered_by_cell_cluster0.txt.gz\n",
      "Loading rabbit2_unst_filtered_by_cell_cluster0.txt.gz\n",
      "Loading rabbit3_lps2_filtered_by_cell_cluster0.txt.gz\n",
      "Loading rabbit3_lps4_filtered_by_cell_cluster0.txt.gz\n",
      "Loading rabbit3_lps6_filtered_by_cell_cluster0.txt.gz\n",
      "Loading rabbit3_unst_filtered_by_cell_cluster0.txt.gz\n",
      "Collating\n"
     ]
    },
    {
     "name": "stderr",
     "output_type": "stream",
     "text": [
      "... storing 'species' as categorical\n",
      "... storing 'replicate' as categorical\n",
      "... storing 'treatment' as categorical\n",
      "... storing 'time_point' as categorical\n",
      "... storing 'barcode' as categorical\n"
     ]
    },
    {
     "name": "stdout",
     "output_type": "stream",
     "text": [
      "Loading rat1_lps2_filtered_by_cell_cluster0.txt.gz\n",
      "Loading rat1_lps4_filtered_by_cell_cluster0.txt.gz\n",
      "Loading rat1_lps6_filtered_by_cell_cluster0.txt.gz\n",
      "Loading rat1_pic2_filtered_by_cell_cluster0.txt.gz\n",
      "Loading rat1_pic4_filtered_by_cell_cluster0.txt.gz\n",
      "Loading rat1_pic6_filtered_by_cell_cluster0.txt.gz\n",
      "Loading rat1_unst_filtered_by_cell_cluster0.txt.gz\n",
      "Loading rat2_lps2_filtered_by_cell_cluster0.txt.gz\n",
      "Loading rat2_lps4_filtered_by_cell_cluster0.txt.gz\n",
      "Loading rat2_lps6_filtered_by_cell_cluster0.txt.gz\n",
      "Loading rat2_pic2_filtered_by_cell_cluster0.txt.gz\n",
      "Loading rat2_pic4_filtered_by_cell_cluster0.txt.gz\n",
      "Loading rat2_pic6_filtered_by_cell_cluster0.txt.gz\n",
      "Loading rat2_unst_filtered_by_cell_cluster0.txt.gz\n",
      "Loading rat3_lps2_filtered_by_cell_cluster0.txt.gz\n",
      "Loading rat3_lps4_filtered_by_cell_cluster0.txt.gz\n",
      "Loading rat3_lps6_filtered_by_cell_cluster0.txt.gz\n",
      "Loading rat3_pic2_filtered_by_cell_cluster0.txt.gz\n",
      "Loading rat3_pic4_filtered_by_cell_cluster0.txt.gz\n",
      "Loading rat3_pic6_filtered_by_cell_cluster0.txt.gz\n",
      "Loading rat3_unst_filtered_by_cell_cluster0.txt.gz\n",
      "Collating\n"
     ]
    },
    {
     "name": "stderr",
     "output_type": "stream",
     "text": [
      "... storing 'species' as categorical\n",
      "... storing 'replicate' as categorical\n",
      "... storing 'treatment' as categorical\n",
      "... storing 'time_point' as categorical\n",
      "... storing 'barcode' as categorical\n"
     ]
    }
   ],
   "source": [
    "species_id_map = {\n",
    "    \"mouse\": \"mmusculus\",\n",
    "    \"pig\": \"sscrofa\",\n",
    "    \"rabbit\": \"ocuniculus\",\n",
    "    \"rat\": \"rnorvegicus\",\n",
    "}\n",
    "\n",
    "species_of_interest = species_id_map.keys()\n",
    "\n",
    "umi_files_path = ae_path.joinpath(\"E-MTAB-6754.processed.2\")\n",
    "\n",
    "for species in species_of_interest:\n",
    "    umi_file_path = umi_files_path.parent.joinpath(umi_files_path.name + f\".{species}.h5ad\")\n",
    "\n",
    "    if not umi_file_path.exists():\n",
    "        csv_glob = umi_files_path.glob(f\"{species}*.txt.gz\")\n",
    "        adata = collate_umi_counts(csv_glob)\n",
    "        adata.write_h5ad(umi_file_path)"
   ]
  },
  {
   "cell_type": "markdown",
   "metadata": {},
   "source": [
    "Download a list of mouse genes (Ensembl ID, symbol and description) from BioMart"
   ]
  }
 ],
 "metadata": {
  "jupytext": {
   "formats": "ipynb,.ipynb.py:percent"
  },
  "kernelspec": {
   "display_name": "Python 3",
   "language": "python",
   "name": "python3"
  },
  "language_info": {
   "codemirror_mode": {
    "name": "ipython",
    "version": 3
   },
   "file_extension": ".py",
   "mimetype": "text/x-python",
   "name": "python",
   "nbconvert_exporter": "python",
   "pygments_lexer": "ipython3",
   "version": "3.8.5"
  }
 },
 "nbformat": 4,
 "nbformat_minor": 4
}
