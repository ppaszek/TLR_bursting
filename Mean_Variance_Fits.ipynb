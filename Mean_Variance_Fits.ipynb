{
 "cells": [
  {
   "cell_type": "code",
   "execution_count": 1,
   "metadata": {},
   "outputs": [],
   "source": [
    "from pathlib import Path\n",
    "\n",
    "import ipywidgets as widgets\n",
    "import matplotlib.pyplot as plt\n",
    "import pandas as pd\n",
    "import seaborn as sns\n",
    "from IPython.core.display import display\n",
    "\n",
    "import rp2\n",
    "from rp2 import data, hagai_2018, notebooks, paths, regression, ui\n",
    "\n",
    "_ = notebooks.initialise_environment(\n",
    "    \"Mean_Variance_Fits\",\n",
    "    dependencies=[\"Burst_Model_Fitting\"],\n",
    ")"
   ]
  },
  {
   "cell_type": "code",
   "execution_count": 2,
   "metadata": {
    "jupyter": {
     "source_hidden": true
    }
   },
   "outputs": [],
   "source": [
    "def map_between_columns(df, index_column, value_column, indices):\n",
    "    if isinstance(indices, list):\n",
    "        indices = pd.Series(indices)\n",
    "    df = df[[index_column, value_column]].drop_duplicates().dropna()\n",
    "    df = df.loc[df[index_column].isin(indices)]\n",
    "    index_map = df.set_index(index_column).squeeze()\n",
    "    return indices.map(index_map).values\n",
    "\n",
    "\n",
    "def map_gene_ids_to_mouse(species, ids):\n",
    "    species_column = f\"{species}_gene\"\n",
    "    return map_between_columns(all_orthologues, species_column, \"mouse_gene\", ids)\n",
    "\n",
    "\n",
    "def make_condition_info_df(species):\n",
    "    stats_columns = [\"min\", \"max\", \"mean\", \"variance\", \"skew\"]\n",
    "\n",
    "    txburst_df = data.load_txburst_results(species, condition_columns, count_type)[index_columns + [\"k_on\", \"k_off\", \"k_syn\", \"keep\"]]\n",
    "    txburst_df.rename(columns={\"keep\": \"k_keep\"}, inplace=True)\n",
    "\n",
    "    info_df = condition_info_df.loc[condition_info_df.species == species, index_columns + stats_columns]\n",
    "    info_df.rename(columns={col: f\"rna_{col}\" for col in stats_columns}, inplace=True)\n",
    "\n",
    "    stats_df = info_df.merge(\n",
    "        txburst_df,\n",
    "        on=index_columns,\n",
    "        how=\"left\",\n",
    "    )\n",
    "    stats_df = stats_df.merge(\n",
    "        condition_info_df[index_columns + [\"bs_point\", \"bf_point\"]],\n",
    "        on=index_columns,\n",
    "        how=\"left\",\n",
    "    )\n",
    "    stats_df.rename(columns={\"bs_point\": \"bs\", \"bf_point\": \"bf\"}, inplace=True)\n",
    "    stats_df.insert(1, \"symbol\", gene_info_df.loc[stats_df.gene].symbol.values)\n",
    "\n",
    "    if species != \"mouse\":\n",
    "        stats_df[\"mouse_id\"] = map_gene_ids_to_mouse(species, stats_df.gene)\n",
    "        stats_df[\"mouse_symbol\"] = gene_info_df.loc[stats_df.mouse_id].symbol.values\n",
    "\n",
    "    return stats_df\n",
    "\n",
    "\n",
    "def make_mv_trend_info_df(species):\n",
    "    species_gene_ids = analysis_orthologues[species].tolist() + additional_gene_ids[species]\n",
    "    trend_info = mv_lr_df.loc[mv_lr_df.index.isin(species_gene_ids)].copy()\n",
    "    trend_info.insert(0, \"symbol\", gene_info_df.loc[trend_info.index].symbol.values)\n",
    "\n",
    "    if species != \"mouse\":\n",
    "        trend_info[\"mouse_id\"] = map_gene_ids_to_mouse(species, trend_info.index)\n",
    "        trend_info[\"mouse_symbol\"] = gene_info_df.loc[trend_info.mouse_id].symbol.values\n",
    "\n",
    "    return trend_info\n",
    "\n",
    "\n",
    "def save_all_species_data(output_folder):\n",
    "    rp2.create_folder(output_folder)\n",
    "    for species in species_to_compare:\n",
    "        make_condition_info_df(species).to_csv(output_folder.joinpath(f\"{species}_condition_info.csv\"), index=False)\n",
    "        trend_info_df = make_mv_trend_info_df(species)\n",
    "        trend_info_df.to_csv(output_folder.joinpath(f\"{species}_trend_info.csv\"))\n",
    "\n",
    "        if species == \"mouse\":\n",
    "            bp_curve_fits_df = pd.read_csv(paths.get_rp2_path(\"bp_curve_fits.csv\"), index_col=(0, 1))\n",
    "            for bp in [\"bs\", \"bf\"]:\n",
    "                curve_fits_df = trend_info_df[[\"symbol\"]].join(bp_curve_fits_df.loc[f\"{bp}_point\"]).sort_values(by=\"symbol\")\n",
    "                curve_fits_df.to_csv(output_folder.joinpath(f\"{species}_{bp}_curves_info.csv\"))"
   ]
  },
  {
   "cell_type": "code",
   "execution_count": 3,
   "metadata": {},
   "outputs": [],
   "source": [
    "species_to_compare = [\"mouse\", \"pig\", \"rabbit\", \"rat\"]\n",
    "\n",
    "use_rp2_gene_subset = True #high covergae gene set\n",
    "\n",
    "results_output_path = \"Output/Mean_Variance_Fits\"\n",
    "\n",
    "additional_mouse_genes = [\"Tnf\", \"Il1b\"]\n",
    "include_additional_orthologues = True"
   ]
  },
  {
   "cell_type": "code",
   "execution_count": 4,
   "metadata": {},
   "outputs": [
    {
     "name": "stdout",
     "output_type": "stream",
     "text": [
      "2,336 one-to-one arthologues\n",
      "  Using subset of 97 from RP2 project\n"
     ]
    }
   ],
   "source": [
    "lps_responsive_mouse_genes = hagai_2018.load_lps_responsive_genes()\n",
    "all_orthologues = rp2.load_mouse_orthologues()\n",
    "analysis_orthologues = rp2.load_one_to_one_mouse_orthologues().loc[lps_responsive_mouse_genes].reset_index()\n",
    "analysis_orthologues.columns = analysis_orthologues.columns.str.slice(0, -5)\n",
    "\n",
    "print(f\"{len(analysis_orthologues):,} one-to-one arthologues\")\n",
    "\n",
    "if use_rp2_gene_subset:\n",
    "    rp2_analysis_genes = data.load_rp2_analysis_genes()\n",
    "    analysis_orthologues = analysis_orthologues.loc[rp2_analysis_genes.loc[analysis_orthologues.mouse].in_subset.to_numpy()]\n",
    "    print(f\"  Using subset of {len(analysis_orthologues):,} from RP2 project\")"
   ]
  },
  {
   "cell_type": "code",
   "execution_count": 5,
   "metadata": {},
   "outputs": [],
   "source": [
    "gene_info_df = pd.concat([rp2.load_biomart_gene_symbols_df(species) for species in species_to_compare])"
   ]
  },
  {
   "cell_type": "code",
   "execution_count": 6,
   "metadata": {},
   "outputs": [
    {
     "name": "stdout",
     "output_type": "stream",
     "text": [
      "Including orthologues for mouse:  Il1b, Tnf\n",
      "Including orthologues for pig:  IL1B1, IL1B2, TNF\n",
      "Including orthologues for rabbit:  IL1B, TNF\n",
      "Including orthologues for rat:  Il1b, LOC103694380, Tnf\n"
     ]
    }
   ],
   "source": [
    "additional_gene_ids = {species: [] for species in species_to_compare}\n",
    "\n",
    "if len(additional_mouse_genes) > 0:\n",
    "    additional_gene_ids[\"mouse\"] = map_between_columns(gene_info_df.loc[gene_info_df.index.str.startswith(\"ENSMUSG\")].reset_index(), \"symbol\", \"id\", additional_mouse_genes).tolist()\n",
    "    additional_orthologues = all_orthologues.loc[all_orthologues.mouse_gene.isin(additional_gene_ids[\"mouse\"])]\n",
    "    if include_additional_orthologues:\n",
    "        for species in species_to_compare:\n",
    "            additional_gene_ids[species] = additional_orthologues[f\"{species}_gene\"].dropna().unique().tolist()\n",
    "            additional_gene_ids[species] = list(set(additional_gene_ids[species]).difference(analysis_orthologues[species]))\n",
    "            if len(additional_gene_ids[species]) > 0:\n",
    "                print(f\"Including orthologues for {species}: \", \", \".join(sorted(gene_info_df.loc[additional_gene_ids[species]].symbol)))"
   ]
  },
  {
   "cell_type": "code",
   "execution_count": 11,
   "metadata": {},
   "outputs": [],
   "source": [
    "condition_columns = [\"replicate\", \"treatment\", \"time_point\"]\n",
    "index_columns = [\"gene\"] + condition_columns\n",
    "count_type = \"median\"\n",
    "\n",
    "def create_condition_info(species):\n",
    "    counts_adata = hagai_2018.load_counts(species, scaling=count_type)\n",
    "    species_gene_ids = analysis_orthologues[species].tolist() + additional_gene_ids[species]\n",
    "    counts_adata = counts_adata[counts_adata.obs.time_point.isin([\"0\", \"2\", \"4\", \"6\"]), species_gene_ids].copy()\n",
    "    info_df = hagai_2018.calculate_counts_condition_stats(counts_adata)\n",
    "    info_df.insert(1, \"species\", species)\n",
    "    info_df = info_df.merge(\n",
    "        data.load_and_recalculate_txburst_results(species, condition_columns=condition_columns, count_type=count_type),\n",
    "        on=index_columns,\n",
    "        how=\"left\",\n",
    "    )\n",
    "    return info_df\n",
    "\n",
    "\n",
    "condition_info_df = pd.concat([create_condition_info(species) for species in species_to_compare])"
   ]
  },
  {
   "cell_type": "code",
   "execution_count": 8,
   "metadata": {},
   "outputs": [
    {
     "name": "stderr",
     "output_type": "stream",
     "text": [
      "C:\\Users\\wolke\\anaconda3\\lib\\site-packages\\statsmodels\\robust\\robust_linear_model.py:287: ConvergenceWarning: Estimated scale is 0.0 indicating that the most last iteration produced a perfect fit of the weighted data.\n",
      "  warnings.warn('Estimated scale is 0.0 indicating that the most'\n"
     ]
    }
   ],
   "source": [
    "mv_lr_df = condition_info_df.groupby(\"gene\").apply(regression.fit_robust_linear_trend, x_var=\"mean\", y_var=\"variance\")"
   ]
  },
  {
   "cell_type": "code",
   "execution_count": 9,
   "metadata": {},
   "outputs": [],
   "source": [
    "if results_output_path is not None:\n",
    "    save_all_species_data(Path(results_output_path))"
   ]
  },
  {
   "cell_type": "code",
   "execution_count": 10,
   "metadata": {},
   "outputs": [
    {
     "data": {
      "application/vnd.jupyter.widget-view+json": {
       "model_id": "516213b6c9944cd4a6a2974114f52c3f",
       "version_major": 2,
       "version_minor": 0
      },
      "text/plain": [
       "interactive(children=(Select(description='mouse_gene_id', options=(('Abca1', 'ENSMUSG00000015243'), ('Abracl',…"
      ]
     },
     "metadata": {},
     "output_type": "display_data"
    },
    {
     "data": {
      "application/vnd.jupyter.widget-view+json": {
       "model_id": "02ad4efe3b254378b51e4afd0777e05c",
       "version_major": 2,
       "version_minor": 0
      },
      "text/plain": [
       "Tab(children=(HBox(children=(Output(), Output())),), _titles={'0': 'Mean-Variance'})"
      ]
     },
     "metadata": {},
     "output_type": "display_data"
    }
   ],
   "source": [
    "mv_plot_output = widgets.Output()\n",
    "mv_info_output = widgets.Output()\n",
    "#bs_plot_output = widgets.Output()\n",
    "#bf_plot_output = widgets.Output()\n",
    "burst_info_output = widgets.Output()\n",
    "\n",
    "tab_widget = widgets.Tab()\n",
    "tab_widget.children = [widgets.HBox([mv_plot_output, mv_info_output])]\n",
    "#tab_widget.children = [widgets.HBox([mv_plot_output, mv_info_output]), widgets.HBox([bs_plot_output, bf_plot_output, burst_info_output])]\n",
    "\n",
    "tab_widget.set_title(0, \"Mean-Variance\")\n",
    "#tab_widget.set_title(1, \"Bursting\")\n",
    "\n",
    "\n",
    "@widgets.interact(mouse_gene_id=ui.make_gene_selector(gene_info_df.loc[analysis_orthologues.mouse].symbol, rows=5))\n",
    "def plot_mv(mouse_gene_id):\n",
    "    gene_ids = analysis_orthologues.loc[analysis_orthologues.mouse == mouse_gene_id].squeeze().to_list()\n",
    "    stats_subset = condition_info_df.loc[condition_info_df.gene.isin(gene_ids)]\n",
    "    lr_subset = mv_lr_df.loc[gene_ids].copy()\n",
    "    lr_subset.insert(0, \"symbol\", gene_info_df.symbol[lr_subset.index])\n",
    "\n",
    "    plot_df = stats_subset[[\"gene\", \"species\", \"replicate\", \"treatment\", \"time_point\", \"mean\", \"variance\"]].copy()\n",
    "    #plot_df = stats_subset[[\"gene\", \"species\", \"replicate\", \"treatment\", \"time_point\", \"mean\", \"variance\", \"bs_point\", \"bf_point\"]].copy()\n",
    "\n",
    "    plot_df = plot_df.merge(lr_subset, on=\"gene\").sort_values(by=[\"gene\", \"mean\"])\n",
    "    plot_df[\"lr_y\"] = (plot_df[\"mean\"] * plot_df[\"slope\"]) + plot_df[\"intercept\"]\n",
    "\n",
    "    colours = sns.color_palette()[:len(gene_ids)]\n",
    "\n",
    "    mv_plot_output.clear_output()\n",
    "    with mv_plot_output:\n",
    "        sns.scatterplot(\n",
    "            plot_df[\"mean\"],\n",
    "            plot_df[\"variance\"],\n",
    "            style=plot_df[\"treatment\"],\n",
    "            style_order=[\"unst\", \"lps\", \"pic\"],\n",
    "            hue=plot_df[\"species\"],\n",
    "            hue_order=species_to_compare,\n",
    "            palette=colours,\n",
    "        )\n",
    "\n",
    "        ax = sns.lineplot(\n",
    "            plot_df[\"mean\"],\n",
    "            plot_df[\"lr_y\"],\n",
    "            hue=plot_df[\"species\"],\n",
    "            hue_order=species_to_compare,\n",
    "            palette=colours,\n",
    "            legend=None,\n",
    "        )\n",
    "        for line in ax.lines:\n",
    "            line.set_linestyle(\"--\")\n",
    "\n",
    "        ui.zero_axes_origin()\n",
    "        plt.legend(loc=\"upper left\", bbox_to_anchor=(1, 1))\n",
    "        plt.xlabel(\"Mean\")\n",
    "        plt.ylabel(\"Variance\")\n",
    "        plt.show()\n",
    "\n",
    "    mv_info_output.clear_output()\n",
    "    with mv_info_output:\n",
    "        display(lr_subset)\n",
    "'''\n",
    "    bs_plot_output.clear_output()\n",
    "    with bs_plot_output:\n",
    "        sns.scatterplot(\n",
    "            plot_df[\"mean\"],\n",
    "            plot_df[\"bs_point\"],\n",
    "            style=plot_df[\"treatment\"],\n",
    "            style_order=[\"unst\", \"lps\", \"pic\"],\n",
    "            hue=plot_df[\"species\"],\n",
    "            hue_order=species_to_compare,\n",
    "            palette=colours,\n",
    "        )\n",
    "        ui.zero_axes_origin()\n",
    "        plt.legend(loc=\"upper left\", bbox_to_anchor=(1, 1))\n",
    "        plt.show()\n",
    "\n",
    "    bf_plot_output.clear_output()\n",
    "    with bf_plot_output:\n",
    "        sns.scatterplot(\n",
    "            plot_df[\"mean\"],\n",
    "            plot_df[\"bf_point\"],\n",
    "            style=plot_df[\"treatment\"],\n",
    "            style_order=[\"unst\", \"lps\", \"pic\"],\n",
    "            hue=plot_df[\"species\"],\n",
    "            hue_order=species_to_compare,\n",
    "            palette=colours,\n",
    "        )\n",
    "        ui.zero_axes_origin()\n",
    "        plt.legend(loc=\"upper left\", bbox_to_anchor=(1, 1))\n",
    "        plt.show()\n",
    "\n",
    "    burst_info_output.clear_output()\n",
    "    with burst_info_output:\n",
    "        print(f\"{plot_df.bs_point.count()} result(s)\")\n",
    "\n",
    "'''\n",
    "display(tab_widget)"
   ]
  },
  {
   "cell_type": "code",
   "execution_count": null,
   "metadata": {},
   "outputs": [],
   "source": []
  },
  {
   "cell_type": "code",
   "execution_count": null,
   "metadata": {},
   "outputs": [],
   "source": []
  }
 ],
 "metadata": {
  "jupytext": {
   "formats": "ipynb,.ipynb.py:percent"
  },
  "kernelspec": {
   "display_name": "Python 3",
   "language": "python",
   "name": "python3"
  },
  "language_info": {
   "codemirror_mode": {
    "name": "ipython",
    "version": 3
   },
   "file_extension": ".py",
   "mimetype": "text/x-python",
   "name": "python",
   "nbconvert_exporter": "python",
   "pygments_lexer": "ipython3",
   "version": "3.8.5"
  }
 },
 "nbformat": 4,
 "nbformat_minor": 4
}
