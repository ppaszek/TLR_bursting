{
 "cells": [
  {
   "cell_type": "code",
   "execution_count": 1,
   "metadata": {
    "lines_to_next_cell": 1
   },
   "outputs": [],
   "source": [
    "import ipywidgets as widgets\n",
    "import matplotlib.pyplot as plt\n",
    "import numpy as np\n",
    "import pandas as pd\n",
    "import seaborn as sns\n",
    "from IPython.display import display\n",
    "from sklearn.linear_model import LinearRegression\n",
    "\n",
    "from rp2 import hagai_2018\n",
    "from rp2.environment import check_environment\n",
    "from rp2.paths import get_txburst_results_csv_path\n",
    "\n",
    "check_environment()"
   ]
  },
  {
   "cell_type": "code",
   "execution_count": 2,
   "metadata": {},
   "outputs": [],
   "source": [
    "def load_txburst_params(species, index_columns, count_type):\n",
    "    params_df = pd.read_csv(get_txburst_results_csv_path(species, index_columns, count_type=count_type))\n",
    "    params_df.replicate = params_df.replicate.astype(str)\n",
    "\n",
    "    for param in [\"bf\", \"bs\"]:\n",
    "        params_df[f\"valid_{param}_point\"] = params_df[f\"{param}_point\"].notna()\n",
    "        params_df[f\"valid_{param}_interval\"] = params_df[f\"{param}_lower\"].notna() & params_df[\n",
    "            f\"{param}_upper\"].notna()\n",
    "    params_df[\"valid_points\"] = params_df.valid_bs_point & params_df.valid_bf_point\n",
    "    params_df[\"valid_intervals\"] = params_df.valid_bs_interval & params_df.valid_bf_interval\n",
    "    params_df[\"valid_params\"] = params_df.valid_points & params_df.valid_intervals\n",
    "    params_df[\"k_burstiness\"] = params_df.k_off / params_df.k_on\n",
    "\n",
    "    return params_df\n",
    "\n",
    "\n",
    "notebook_species = \"mouse\"\n",
    "notebook_count_type = \"median\"\n",
    "compare_count_types = [\"umi\"]\n",
    "condition_index_columns = [\"replicate\", \"treatment\", \"time_point\"]\n",
    "\n",
    "txburst_results_map = {count_type: load_txburst_params(notebook_species, condition_index_columns, count_type)\n",
    "                      for count_type in [notebook_count_type] + compare_count_types}\n",
    "\n",
    "txburst_params_df = txburst_results_map[notebook_count_type]"
   ]
  },
  {
   "cell_type": "code",
   "execution_count": 3,
   "metadata": {},
   "outputs": [],
   "source": [
    "counts_adata = hagai_2018.load_counts(notebook_species, scaling=notebook_count_type)\n",
    "counts_adata = counts_adata[:, txburst_params_df.gene.unique()].copy()\n",
    "counts_stats_df = hagai_2018.calculate_counts_condition_stats(counts_adata)\n",
    "\n",
    "gene_symbols = counts_adata.var.symbol"
   ]
  },
  {
   "cell_type": "code",
   "execution_count": 4,
   "metadata": {
    "lines_to_next_cell": 1
   },
   "outputs": [],
   "source": [
    "gene_index_columns = [\"gene\"] + condition_index_columns\n",
    "\n",
    "condition_info_df = txburst_params_df.set_index(gene_index_columns).join(counts_stats_df.set_index(gene_index_columns)).reset_index()\n",
    "\n",
    "all_treatments = condition_info_df.treatment.sort_values().unique().tolist()"
   ]
  },
  {
   "cell_type": "code",
   "execution_count": 5,
   "metadata": {},
   "outputs": [],
   "source": [
    "def calculate_linear_regression(df, x_var, y_var):\n",
    "    lr_x, lr_y = df.loc[:, [x_var, y_var]].to_numpy().reshape(1, -1, 2).T\n",
    "    lr = LinearRegression().fit(lr_x, lr_y)\n",
    "\n",
    "    return {\n",
    "        \"slope\": lr.coef_.item(),\n",
    "        \"intercept\": lr.intercept_.item(),\n",
    "        \"r2\": lr.score(lr_x, lr_y),\n",
    "    }\n",
    "\n",
    "\n",
    "def create_gene_regression(condition_df):\n",
    "    lr_values = calculate_linear_regression(condition_df, \"mean\", \"variance\")\n",
    "\n",
    "    return pd.Series(data=lr_values)\n",
    "\n",
    "\n",
    "def create_gene_info(treatments):\n",
    "    condition_info_subset = condition_info_df.loc[condition_info_df.treatment.isin(treatments)]\n",
    "    gene_info_df = condition_info_subset.groupby(\"gene\").apply(create_gene_regression)\n",
    "    return gene_info_df\n",
    "\n",
    "\n",
    "treatment_groups = {\n",
    "    \"LPS only\": [\"unst\", \"lps\"],\n",
    "    \"PIC only\": [\"unst\", \"pic\"],\n",
    "    \"LPS and PIC\": [\"unst\", \"lps\", \"pic\"],\n",
    "}\n",
    "\n",
    "gene_info_map = {name: create_gene_info(treatments) for name, treatments in treatment_groups.items()}"
   ]
  },
  {
   "cell_type": "code",
   "execution_count": 6,
   "metadata": {},
   "outputs": [],
   "source": [
    "def make_scale_selector(default=\"linear\"):\n",
    "    return widgets.Dropdown(\n",
    "        options=[\"linear\", \"log\"],\n",
    "        value=default,\n",
    "    )\n",
    "\n",
    "\n",
    "def make_treatment_group_selector():\n",
    "    return widgets.Dropdown(\n",
    "        options=treatment_groups.keys(),\n",
    "        label=\"LPS and PIC\",\n",
    "    )\n",
    "\n",
    "\n",
    "def make_condition_colour_selector(default=\"time_point\"):\n",
    "    return widgets.Dropdown(\n",
    "        options=[\"replicate\", \"treatment\", \"time_point\", None],\n",
    "        value=default,\n",
    "    )\n",
    "\n",
    "\n",
    "def make_valid_point_flag_selector():\n",
    "    return widgets.Dropdown(options=[\"valid_points\", \"valid_intervals\"])"
   ]
  },
  {
   "cell_type": "code",
   "execution_count": 7,
   "metadata": {},
   "outputs": [
    {
     "data": {
      "application/vnd.jupyter.widget-view+json": {
       "model_id": "168f49ffc17745058c15d319825a50c0",
       "version_major": 2,
       "version_minor": 0
      },
      "text/plain": [
       "interactive(children=(Dropdown(description='treatment_group', index=2, options=('LPS only', 'PIC only', 'LPS a…"
      ]
     },
     "metadata": {},
     "output_type": "display_data"
    }
   ],
   "source": [
    "@widgets.interact(treatment_group=make_treatment_group_selector(), valid_flag=make_valid_point_flag_selector(), y_scale=make_scale_selector(\"log\"))\n",
    "def plot_count_type_comparison(treatment_group, valid_flag, y_scale):\n",
    "    treatments = treatment_groups[treatment_group]\n",
    "\n",
    "    bar_width = 0.35\n",
    "    _, ax = plt.subplots()\n",
    "    for i, (count_type, burst_params_df) in enumerate(txburst_results_map.items()):\n",
    "        burst_params_subset = burst_params_df[burst_params_df.treatment.isin(treatments)]\n",
    "        counts = burst_params_subset.groupby(\"gene\")[valid_flag].agg(np.count_nonzero)\n",
    "        count_frequencies = counts.value_counts()\n",
    "        ax.bar(\n",
    "            count_frequencies.index + (bar_width * i),\n",
    "            count_frequencies.values,\n",
    "            width=bar_width,\n",
    "            label=count_type\n",
    "        )\n",
    "    plt.xlabel(\"No. conditions\")\n",
    "    plt.ylabel(\"No. genes\")\n",
    "    plt.yscale(y_scale)\n",
    "    plt.legend(loc=\"upper right\")\n",
    "    plt.show()"
   ]
  },
  {
   "cell_type": "code",
   "execution_count": 8,
   "metadata": {},
   "outputs": [
    {
     "data": {
      "application/vnd.jupyter.widget-view+json": {
       "model_id": "cb19ce2b967b48e09fa59a2fad79c9bf",
       "version_major": 2,
       "version_minor": 0
      },
      "text/plain": [
       "interactive(children=(Dropdown(description='y_scale', options=('linear', 'log'), value='linear'), Output()), _…"
      ]
     },
     "metadata": {},
     "output_type": "display_data"
    }
   ],
   "source": [
    "@widgets.interact(y_scale=make_scale_selector())\n",
    "def plot_per_gene_condition_frequencies(y_scale):\n",
    "    n_treatments = len(all_treatments)\n",
    "    _, axes = plt.subplots(ncols=n_treatments, figsize=(n_treatments * 5, 5), sharey=True)\n",
    "    for treatment, ax in zip(all_treatments, axes):\n",
    "        counts = condition_info_df.loc[condition_info_df.treatment == treatment].groupby(\"gene\")[[\"keep\", \"valid_intervals\"]].agg(np.count_nonzero).melt()\n",
    "        sns.countplot(\n",
    "            x=\"value\",\n",
    "            hue=\"variable\",\n",
    "            ax=ax,\n",
    "            data=counts,\n",
    "        )\n",
    "        ax.set_title(treatment)\n",
    "        ax.set_xlabel(\"No. conditions\")\n",
    "        ax.set_ylabel(\"No. genes\")\n",
    "        ax.set_yscale(y_scale)\n",
    "        ax.legend(loc=\"upper right\")\n",
    "    plt.tight_layout()\n",
    "    plt.show()"
   ]
  },
  {
   "cell_type": "code",
   "execution_count": 9,
   "metadata": {
    "lines_to_next_cell": 2
   },
   "outputs": [
    {
     "data": {
      "application/vnd.jupyter.widget-view+json": {
       "model_id": "8ad27378cb9f4f758b81fd35540b67fc",
       "version_major": 2,
       "version_minor": 0
      },
      "text/plain": [
       "interactive(children=(Dropdown(description='treatment_group', index=2, options=('LPS only', 'PIC only', 'LPS a…"
      ]
     },
     "metadata": {},
     "output_type": "display_data"
    }
   ],
   "source": [
    "@widgets.interact(treatment_group=make_treatment_group_selector(), y_scale=make_scale_selector(\"log\"))\n",
    "def plot_regression_histograms(treatment_group, y_scale):\n",
    "    gene_info_df = gene_info_map[treatment_group]\n",
    "    n_columns = len(gene_info_df.columns)\n",
    "    _, axes = plt.subplots(1, n_columns, figsize=(4 * n_columns, 4))\n",
    "    for column, ax in zip(gene_info_df.columns, axes):\n",
    "        ax.hist(\n",
    "            gene_info_df.loc[:, column].values,\n",
    "            bins=30,\n",
    "        )\n",
    "        ax.set_xlabel(column)\n",
    "        ax.set_yscale(y_scale)\n",
    "        \n",
    "    for label in axes[1].get_xticklabels():\n",
    "        label.set_rotation(20)\n",
    "        label.set_ha(\"right\")\n",
    "    plt.tight_layout()\n",
    "    plt.show()"
   ]
  },
  {
   "cell_type": "code",
   "execution_count": 10,
   "metadata": {},
   "outputs": [
    {
     "data": {
      "application/vnd.jupyter.widget-view+json": {
       "model_id": "b9bc29594e874a42b96e89ffeea1b8b9",
       "version_major": 2,
       "version_minor": 0
      },
      "text/plain": [
       "interactive(children=(Dropdown(description='treatment_group', index=2, options=('LPS only', 'PIC only', 'LPS a…"
      ]
     },
     "metadata": {},
     "output_type": "display_data"
    }
   ],
   "source": [
    "@widgets.interact(treatment_group=make_treatment_group_selector(), sort_by=[\"slope\", \"intercept\", \"r2\"], ascending=True)\n",
    "def display_regression_list(treatment_group, sort_by, ascending):\n",
    "    gene_info_df = gene_info_map[treatment_group].copy()\n",
    "    gene_info_df.insert(0, \"symbol\", gene_symbols[gene_info_df.index])\n",
    "    display(gene_info_df.sort_values(by=sort_by, ascending=ascending))"
   ]
  },
  {
   "cell_type": "code",
   "execution_count": 11,
   "metadata": {},
   "outputs": [
    {
     "data": {
      "application/vnd.jupyter.widget-view+json": {
       "model_id": "158a7b13ad5c4d5785ac3166317d77df",
       "version_major": 2,
       "version_minor": 0
      },
      "text/plain": [
       "interactive(children=(Dropdown(description='treatment_group', index=2, options=('LPS only', 'PIC only', 'LPS a…"
      ]
     },
     "metadata": {},
     "output_type": "display_data"
    }
   ],
   "source": [
    "@widgets.interact(treatment_group=make_treatment_group_selector(), valid_flag=make_valid_point_flag_selector())\n",
    "def plot_mean_and_slope(treatment_group, valid_flag):\n",
    "    gene_info_df = gene_info_map[treatment_group]\n",
    "\n",
    "    joined_df = gene_info_df.reset_index(\"gene\").merge(condition_info_df, on=\"gene\")\n",
    "\n",
    "    sns.pairplot(\n",
    "        vars=[\"mean\", \"variance\", \"slope\"],\n",
    "        data=joined_df.loc[joined_df[valid_flag]],\n",
    "    )\n",
    "    plt.show()"
   ]
  },
  {
   "cell_type": "code",
   "execution_count": null,
   "metadata": {},
   "outputs": [],
   "source": []
  },
  {
   "cell_type": "code",
   "execution_count": null,
   "metadata": {},
   "outputs": [],
   "source": []
  }
 ],
 "metadata": {
  "jupytext": {
   "formats": "ipynb,.ipynb.py:percent"
  },
  "kernelspec": {
   "display_name": "Python 3 (ipykernel)",
   "language": "python",
   "name": "python3"
  },
  "language_info": {
   "codemirror_mode": {
    "name": "ipython",
    "version": 3
   },
   "file_extension": ".py",
   "mimetype": "text/x-python",
   "name": "python",
   "nbconvert_exporter": "python",
   "pygments_lexer": "ipython3",
   "version": "3.9.13"
  }
 },
 "nbformat": 4,
 "nbformat_minor": 4
}
