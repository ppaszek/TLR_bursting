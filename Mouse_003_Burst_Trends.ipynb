{
 "cells": [
  {
   "cell_type": "code",
   "execution_count": 1,
   "metadata": {},
   "outputs": [],
   "source": [
    "import ipywidgets as widgets\n",
    "import matplotlib\n",
    "import matplotlib.pyplot as plt\n",
    "import numpy as np\n",
    "import pandas as pd\n",
    "import seaborn as sns\n",
    "import statsmodels.api as sm\n",
    "from IPython.display import display, Latex\n",
    "from scipy import stats\n",
    "from sklearn import metrics\n",
    "\n",
    "import rp2.data\n",
    "import rp2.environment\n",
    "from rp2 import hagai_2018, create_gene_symbol_map\n",
    "from rp2.environment import check_environment\n",
    "from rp2.paths import get_output_path\n",
    "from rp2.regression import power_function, calculate_curve_fit\n",
    "\n",
    "check_environment()"
   ]
  },
  {
   "cell_type": "markdown",
   "metadata": {},
   "source": [
    "### Settings controlling downstream analysis"
   ]
  },
  {
   "cell_type": "code",
   "execution_count": 2,
   "metadata": {},
   "outputs": [],
   "source": [
    "analysis_species = \"mouse\"\n",
    "analysis_counts = \"median\"\n",
    "analysis_treatments = [\"unst\", \"lps\", \"pic\"]\n",
    "analysis_time_points = [\"0\", \"2\", \"4\", \"6\"]\n",
    "\n",
    "default_huber_epsilon = 1.345\n",
    "mv_rlm_factor = default_huber_epsilon\n",
    "min_mv_r2 = 0.60\n",
    "min_conditions = 10\n",
    "\n",
    "bp_curve_loss = \"huber\"\n",
    "bp_curve_f_scale = 1.00\n",
    "\n",
    "condition_columns = [\"replicate\", \"treatment\", \"time_point\"]\n",
    "index_columns = [\"gene\"] + condition_columns"
   ]
  },
  {
   "cell_type": "code",
   "execution_count": 3,
   "metadata": {},
   "outputs": [],
   "source": [
    "gene_symbol_map = create_gene_symbol_map(analysis_species)"
   ]
  },
  {
   "cell_type": "markdown",
   "metadata": {},
   "source": [
    "### Determine which genes have a sufficient number of conditions with valid burst parameters"
   ]
  },
  {
   "cell_type": "code",
   "execution_count": 4,
   "metadata": {
    "jupyter": {
     "source_hidden": true
    }
   },
   "outputs": [
    {
     "name": "stdout",
     "output_type": "stream",
     "text": [
      "11,604 conditions for 2,303 genes have been processed by txburst\n",
      "11,604 conditions have valid burst parameters\n",
      "123 genes have 10 or more conditions with valid burst parameters\n"
     ]
    }
   ],
   "source": [
    "condition_info_df = rp2.data.load_and_recalculate_txburst_results(analysis_species, condition_columns, count_type=analysis_counts)\n",
    "condition_info_df[\"k_burstiness\"] = condition_info_df.k_off / condition_info_df.k_on\n",
    "condition_info_df[\"log_burstiness\"] = np.log(condition_info_df.k_burstiness)\n",
    "\n",
    "condition_info_df = condition_info_df.loc[condition_info_df.treatment.isin(analysis_treatments)]\n",
    "condition_info_df = condition_info_df.loc[condition_info_df.time_point.isin(analysis_time_points)]\n",
    "print(f\"{len(condition_info_df):,} conditions for {condition_info_df.gene.nunique():,} genes have been processed by txburst\")\n",
    "\n",
    "condition_info_df[\"valid_bp\"] = condition_info_df.bs_point.notna() & condition_info_df.bf_point.notna()\n",
    "\n",
    "print(f\"{np.count_nonzero(condition_info_df.valid_bp):,} conditions have valid burst parameters\")\n",
    "\n",
    "valid_counts = condition_info_df.groupby(\"gene\").valid_bp.agg(np.count_nonzero)\n",
    "valid_gene_ids = valid_counts.index[valid_counts >= min_conditions]\n",
    "print(f\"{len(valid_gene_ids):,} genes have {min_conditions} or more conditions with valid burst parameters\")\n",
    "\n",
    "condition_info_df = condition_info_df.loc[condition_info_df.gene.isin(valid_gene_ids)]"
   ]
  },
  {
   "cell_type": "markdown",
   "metadata": {},
   "source": [
    "### Calculate statistics of RNA counts"
   ]
  },
  {
   "cell_type": "code",
   "execution_count": 5,
   "metadata": {
    "jupyter": {
     "source_hidden": true
    }
   },
   "outputs": [
    {
     "name": "stdout",
     "output_type": "stream",
     "text": [
      "Counts available for 55,898 cells and 16,798 genes\n",
      "Calculating count statistics for 53,086 cells and 123 genes\n"
     ]
    }
   ],
   "source": [
    "def calculate_count_stats(condition_subset):\n",
    "    counts_adata = hagai_2018.load_counts(analysis_species, scaling=analysis_counts)\n",
    "    print(f\"Counts available for {counts_adata.n_obs:,} cells and {counts_adata.n_vars:,} genes\")\n",
    "\n",
    "    counts_adata = counts_adata[:, counts_adata.var_names.isin(condition_subset.gene)]\n",
    "    for column in condition_columns:\n",
    "        counts_adata = counts_adata[counts_adata.obs[column].isin(condition_subset[column])]\n",
    "\n",
    "    counts_adata = counts_adata.copy()\n",
    "    print(f\"Calculating count statistics for {counts_adata.n_obs:,} cells and {counts_adata.n_vars:,} genes\")\n",
    "\n",
    "    stats_df = hagai_2018.calculate_counts_condition_stats(counts_adata, group_columns=condition_columns)\n",
    "\n",
    "    return stats_df\n",
    "\n",
    "\n",
    "condition_info_df = condition_info_df.set_index(index_columns).join(\n",
    "    calculate_count_stats(condition_info_df).set_index(index_columns),\n",
    "    how=\"left\",\n",
    ").reset_index()"
   ]
  },
  {
   "cell_type": "markdown",
   "metadata": {},
   "source": [
    "### Display an interactive mean-variance plot for genes with sufficient conditions with valid burst parameters\n",
    "\n",
    "Although the list of genes is restricted to those with a minimum number of conditions with valid burst parameters, all conditions are plotted and used to fit the regression line. The solid line shows the fit to all points and dotted lines show fits for individual treatments (including unstimulated points in each case).\n",
    "\n",
    "Plotted points are scaled according to the weight they are assigned by the robust linear model. The sensitivity of the model to outliers can be adjusted rlm_factor slider. Changes to this value are for illustration only and will not change downstream analysis (for this, change the value of mv_rlm_factor above and re-run all cells)."
   ]
  },
  {
   "cell_type": "code",
   "execution_count": 6,
   "metadata": {
    "jupyter": {
     "source_hidden": true
    }
   },
   "outputs": [
    {
     "data": {
      "application/vnd.jupyter.widget-view+json": {
       "model_id": "18a4994db8af436296ec57e0c4101a5d",
       "version_major": 2,
       "version_minor": 0
      },
      "text/plain": [
       "interactive(children=(Select(description='gene_id', options=(('Abca1', 'ENSMUSG00000015243'), ('Abracl', 'ENSM…"
      ]
     },
     "metadata": {},
     "output_type": "display_data"
    }
   ],
   "source": [
    "def apply_huber_regressor(df, x_var, y_var, epsilon, include_weights=False):\n",
    "    x, y = df.loc[:, [x_var, y_var]].to_numpy().T\n",
    "    x = sm.add_constant(x)\n",
    "\n",
    "    lm_res = sm.RLM(y, x, sm.robust.norms.HuberT(t=epsilon)).fit()\n",
    "\n",
    "    results = {\n",
    "        \"slope\": lm_res.params[1],\n",
    "        \"intercept\": lm_res.params[0],\n",
    "    }\n",
    "\n",
    "    r2_unweighted = metrics.r2_score(y, lm_res.predict(x))\n",
    "    if include_weights:\n",
    "        results[\"r2_unweighted\"] = r2_unweighted\n",
    "        results[\"r2_weighted\"] = metrics.r2_score(y, lm_res.predict(x), sample_weight=lm_res.weights)\n",
    "        results[\"weights\"] = lm_res.weights\n",
    "    else:\n",
    "        results[\"r2\"] = r2_unweighted\n",
    "\n",
    "    return results\n",
    "\n",
    "\n",
    "def apply_mv_regressor(df, x_var, y_var, epsilon=mv_rlm_factor):\n",
    "    return apply_huber_regressor(df, x_var, y_var, epsilon, include_weights=True)\n",
    "\n",
    "\n",
    "def apply_standard_regressor(df, x_var, y_var):\n",
    "    return apply_huber_regressor(df, x_var, y_var, epsilon=default_huber_epsilon)\n",
    "\n",
    "\n",
    "def make_gene_selector(gene_ids):\n",
    "    gene_symbols = gene_symbol_map.lookup(gene_ids).sort_values()\n",
    "    return widgets.Select(\n",
    "        options=list(zip(gene_symbols.values, gene_symbols.index)),\n",
    "        rows=3,\n",
    "    )\n",
    "\n",
    "\n",
    "def format_plus_c(c):\n",
    "    return f\"+{c:.2f}\" if c > 0 else f\"-{abs(c):.2f}\"\n",
    "\n",
    "\n",
    "def plot_mean_var(gene_id, scale, plot_treatment_lines, rlm_factor):\n",
    "    treatment_colour_map = {\"unst\": \"black\", \"lps\": \"red\", \"pic\": \"green\"}\n",
    "\n",
    "    condition_info_subset = condition_info_df.loc[condition_info_df.gene == gene_id]\n",
    "\n",
    "    lr_results = apply_mv_regressor(condition_info_subset, \"mean\", \"variance\", rlm_factor)\n",
    "    lr_weights = lr_results[\"weights\"]\n",
    "\n",
    "    treatment_lr_results_map = {treatment: apply_mv_regressor(condition_info_subset.loc[condition_info_subset.treatment.isin([\"unst\", treatment])], \"mean\", \"variance\")\n",
    "                                for treatment in filter(lambda t: t != \"unst\", analysis_treatments)}\n",
    "\n",
    "    plot_output = widgets.Output()\n",
    "    info_output = widgets.Output()\n",
    "\n",
    "    with plot_output:\n",
    "        colours = condition_info_subset.treatment.map(treatment_colour_map)\n",
    "        legend_handles = []\n",
    "        for treatment_name, colour in treatment_colour_map.items():\n",
    "            legend_handles.append(matplotlib.lines.Line2D([], [], marker=\"o\", color=colour, label=treatment_name, linestyle=\"None\", markersize=8))\n",
    "\n",
    "        is_log = scale == \"log\"\n",
    "        log_shift = 1 if is_log else 0\n",
    "        space_function = np.geomspace if is_log else np.linspace\n",
    "\n",
    "        x, y = condition_info_subset.loc[:, [\"mean\", \"variance\"]].to_numpy().T\n",
    "        s = np.interp(lr_weights, (0, 1), (10, 50))\n",
    "        plt.scatter(x + log_shift, y + log_shift, c=colours, s=s)\n",
    "\n",
    "        lr_x = space_function(log_shift, x.max() + log_shift)\n",
    "        lr_y = ((lr_x - log_shift) * lr_results[\"slope\"]) + lr_results[\"intercept\"]\n",
    "        plt.plot(lr_x, lr_y + log_shift, \"-\")\n",
    "\n",
    "        if plot_treatment_lines:\n",
    "            for treatment, lr_res in treatment_lr_results_map.items():\n",
    "                lr_y2 = ((lr_x - log_shift) * lr_res[\"slope\"]) + lr_res[\"intercept\"]\n",
    "                plt.plot(lr_x, lr_y2 + log_shift, \":\", c=treatment_colour_map[treatment])\n",
    "\n",
    "        plt.xscale(scale)\n",
    "        plt.xlim(left=log_shift)\n",
    "        plt.xlabel(\"Mean count ($\\mu$)\")\n",
    "        plt.yscale(scale)\n",
    "        plt.ylim(bottom=log_shift)\n",
    "        plt.ylabel(\"Variance ($\\sigma^2$)\")\n",
    "        plt.legend(\n",
    "            handles=legend_handles,\n",
    "            loc=\"upper left\",\n",
    "            bbox_to_anchor=(1, 1)\n",
    "        )\n",
    "        plt.show()\n",
    "\n",
    "    with info_output:\n",
    "        print(f\"No. of conditions with burst parameters: {np.count_nonzero(condition_info_subset.valid_bp)} / {len(condition_info_subset)}\")\n",
    "        print(f\"No. of weights < 1: {np.count_nonzero(lr_weights < 1)}\")\n",
    "        for treatment in analysis_treatments:\n",
    "            print(f\"  {np.count_nonzero((lr_weights < 1) & (condition_info_subset.treatment == treatment))} {treatment}\")\n",
    "        display(Latex(f\"$\\sigma^2={lr_results['slope']:.2f}\\mu{format_plus_c(lr_results['intercept'])}$\"))\n",
    "        display(Latex(f\"Weighted $R^2$: {lr_results['r2_weighted']:.3f}\"))\n",
    "        display(Latex(f\"Unweighted $R^2$: {lr_results['r2_unweighted']:.3f}\"))\n",
    "\n",
    "        for name, treatment_lr_results in treatment_lr_results_map.items():\n",
    "            display(Latex(f\"Unweighted $R_{{{name}}}^2$: {treatment_lr_results['r2_unweighted']:.3f}\"))\n",
    "\n",
    "\n",
    "    display(widgets.HBox((plot_output, info_output)))\n",
    "\n",
    "\n",
    "widgets.interactive(\n",
    "    plot_mean_var,\n",
    "    gene_id=make_gene_selector(valid_gene_ids),\n",
    "    scale=widgets.RadioButtons(options=[[\"Linear\", \"linear\"], [\"Log-log (+1)\", \"log\"]]),\n",
    "    plot_treatment_lines=False,\n",
    "    rlm_factor=widgets.FloatSlider(mv_rlm_factor, min=1.001, max=5, step=0.001, readout_format=\".3f\"),\n",
    ")"
   ]
  },
  {
   "cell_type": "code",
   "execution_count": null,
   "metadata": {},
   "outputs": [],
   "source": []
  }
 ],
 "metadata": {
  "jupytext": {
   "formats": "ipynb,.ipynb.py:percent"
  },
  "kernelspec": {
   "display_name": "Python 3 (ipykernel)",
   "language": "python",
   "name": "python3"
  },
  "language_info": {
   "codemirror_mode": {
    "name": "ipython",
    "version": 3
   },
   "file_extension": ".py",
   "mimetype": "text/x-python",
   "name": "python",
   "nbconvert_exporter": "python",
   "pygments_lexer": "ipython3",
   "version": "3.9.13"
  }
 },
 "nbformat": 4,
 "nbformat_minor": 4
}
