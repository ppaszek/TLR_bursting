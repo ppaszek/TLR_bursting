{
 "cells": [
  {
   "cell_type": "markdown",
   "metadata": {},
   "source": [
    "# References"
   ]
  },
  {
   "cell_type": "markdown",
   "metadata": {},
   "source": [
    "Grün, D., Kester, L. and Van Oudenaarden, A. (2014) 'Validation of noise models for single-cell transcriptomics', *Nature Methods*, 11(6), pp. 637--640. doi: [10.1038/nmeth.2930](https://doi.org/10.1038/nmeth.2930).\n",
    "\n",
    "Hagai, T. *et al.* (2018) 'Gene expression variability across cells and species shapes innate immunity', *Nature*. Nature Publishing Group, 563(7730), pp. 197--202. doi: [10.1038/s41586-018-0657-2](http://doi.org/10.1038/s41586-018-0657-2).\n",
    "\n",
    "Larsson, A. J. M. *et al.* (2019) 'Genomic encoding of transcriptional burst kinetics', *Nature*. Springer US, 565(7738), pp. 251--254. doi: [10.1038/s41586-018-0836-1](http://doi.org/10.1038/s41586-018-0836-1)."
   ]
  },
  {
   "cell_type": "code",
   "execution_count": null,
   "metadata": {},
   "outputs": [],
   "source": []
  }
 ],
 "metadata": {
  "kernelspec": {
   "display_name": "Python 3",
   "language": "python",
   "name": "python3"
  },
  "language_info": {
   "codemirror_mode": {
    "name": "ipython",
    "version": 3
   },
   "file_extension": ".py",
   "mimetype": "text/x-python",
   "name": "python",
   "nbconvert_exporter": "python",
   "pygments_lexer": "ipython3",
   "version": "3.8.2"
  }
 },
 "nbformat": 4,
 "nbformat_minor": 4
}
